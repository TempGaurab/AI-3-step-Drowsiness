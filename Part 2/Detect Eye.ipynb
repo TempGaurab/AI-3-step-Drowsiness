{
 "cells": [
  {
   "cell_type": "code",
   "execution_count": 2,
   "id": "ada09589",
   "metadata": {},
   "outputs": [],
   "source": [
    "import numpy as np\n",
    "import cv2"
   ]
  },
  {
   "cell_type": "code",
   "execution_count": null,
   "id": "2227b4ba",
   "metadata": {},
   "outputs": [],
   "source": [
    "face_cascade = cv2.CascadeClassifier('haarcascade_frontalface_default.xml')\n",
    "eye_cascade = cv2.CascadeClassifier('haarcascade_eye.xml')"
   ]
  },
  {
   "cell_type": "code",
   "execution_count": null,
   "id": "df90366b",
   "metadata": {},
   "outputs": [],
   "source": [
    "img = cv2.imread('OIP.jpg')\n",
    "gray = cv2.cvtColor(img,cv2.COLOR_BGR2GRAY)"
   ]
  },
  {
   "cell_type": "code",
   "execution_count": null,
   "id": "67a8f8f3",
   "metadata": {},
   "outputs": [],
   "source": [
    "faces = face_cascade.detectMultiScale(gray, 1.3, 5)\n",
    "faces"
   ]
  },
  {
   "cell_type": "code",
   "execution_count": null,
   "id": "aeabcee1",
   "metadata": {},
   "outputs": [],
   "source": [
    "# Initialize an eye counter for naming the saved images\n",
    "eye_counter = 0\n",
    "\n",
    "for (x, y, w, h) in faces:\n",
    "    roi_gray = gray[y:y+h, x:x+w]\n",
    "    roi_color = img[y:y+h, x:x+w]\n",
    "\n",
    "    # Detect eyes in the face region\n",
    "    eyes = eye_cascade.detectMultiScale(roi_gray)\n",
    "    for (ex, ey, ew, eh) in eyes:\n",
    "        eye_img = roi_color[ey:ey+eh, ex:ex+ew]  # Extract the eye region\n",
    "        print(eye_img)\n",
    "        # Save the extracted eye image\n",
    "        cv2.imwrite(f'eye_{eye_counter}.jpg', eye_img)\n",
    "        eye_counter += 1  # Increment the counter for the next eye image"
   ]
  },
  {
   "cell_type": "code",
   "execution_count": 4,
   "id": "0efb9220",
   "metadata": {},
   "outputs": [],
   "source": [
    "def return_eye(imag):\n",
    "    img = imag\n",
    "    face_cascade = cv2.CascadeClassifier('haarcascade_frontalface_default.xml')\n",
    "    eye_cascade = cv2.CascadeClassifier('haarcascade_eye.xml')\n",
    "    gray = cv2.cvtColor(img,cv2.COLOR_BGR2GRAY)\n",
    "    faces = face_cascade.detectMultiScale(gray, 1.3, 5)\n",
    "    # Initialize an eye counter for naming the saved images\n",
    "    eye_counter = 0\n",
    "    for (x, y, w, h) in faces:\n",
    "        roi_gray = gray[y:y+h, x:x+w]\n",
    "        roi_color = img[y:y+h, x:x+w]\n",
    "\n",
    "        # Detect eyes in the face region\n",
    "        eyes = eye_cascade.detectMultiScale(roi_gray)\n",
    "        for (ex, ey, ew, eh) in eyes:\n",
    "            eye_img = roi_color[ey:ey+eh, ex:ex+ew]  # Extract the eye region\n",
    "            return eye_img"
   ]
  },
  {
   "cell_type": "code",
   "execution_count": 5,
   "id": "c214ebbc",
   "metadata": {},
   "outputs": [
    {
     "name": "stdout",
     "output_type": "stream",
     "text": [
      "[[[145 171 218]\n",
      "  [145 168 216]\n",
      "  [142 165 213]\n",
      "  ...\n",
      "  [141 173 216]\n",
      "  [136 168 209]\n",
      "  [132 164 207]]\n",
      "\n",
      " [[136 162 208]\n",
      "  [134 160 206]\n",
      "  [132 158 204]\n",
      "  ...\n",
      "  [133 163 204]\n",
      "  [131 162 201]\n",
      "  [135 165 206]]\n",
      "\n",
      " [[129 155 201]\n",
      "  [128 155 199]\n",
      "  [127 153 199]\n",
      "  ...\n",
      "  [120 147 184]\n",
      "  [119 146 183]\n",
      "  [126 153 190]]\n",
      "\n",
      " ...\n",
      "\n",
      " [[160 181 236]\n",
      "  [139 163 221]\n",
      "  [124 147 203]\n",
      "  ...\n",
      "  [132 161 205]\n",
      "  [131 160 204]\n",
      "  [134 163 207]]\n",
      "\n",
      " [[160 180 235]\n",
      "  [150 172 230]\n",
      "  [142 162 219]\n",
      "  ...\n",
      "  [132 161 205]\n",
      "  [130 159 203]\n",
      "  [130 159 203]]\n",
      "\n",
      " [[165 182 238]\n",
      "  [163 183 241]\n",
      "  [158 176 235]\n",
      "  ...\n",
      "  [135 164 208]\n",
      "  [134 163 207]\n",
      "  [134 163 207]]]\n"
     ]
    }
   ],
   "source": [
    "print(return_eye(img))"
   ]
  },
  {
   "cell_type": "code",
   "execution_count": 7,
   "id": "d172cf98",
   "metadata": {},
   "outputs": [],
   "source": [
    " cv2.imshow('Extracted Eye', return_eye(img))"
   ]
  },
  {
   "cell_type": "code",
   "execution_count": 3,
   "id": "b6769a21",
   "metadata": {},
   "outputs": [],
   "source": [
    "img = cv2.imread('OIP.jpg')"
   ]
  },
  {
   "cell_type": "code",
   "execution_count": null,
   "id": "aabc7177",
   "metadata": {},
   "outputs": [],
   "source": []
  },
  {
   "cell_type": "code",
   "execution_count": null,
   "id": "34047bfb",
   "metadata": {},
   "outputs": [],
   "source": []
  }
 ],
 "metadata": {
  "kernelspec": {
   "display_name": "Python 3 (ipykernel)",
   "language": "python",
   "name": "python3"
  },
  "language_info": {
   "codemirror_mode": {
    "name": "ipython",
    "version": 3
   },
   "file_extension": ".py",
   "mimetype": "text/x-python",
   "name": "python",
   "nbconvert_exporter": "python",
   "pygments_lexer": "ipython3",
   "version": "3.11.4"
  }
 },
 "nbformat": 4,
 "nbformat_minor": 5
}
